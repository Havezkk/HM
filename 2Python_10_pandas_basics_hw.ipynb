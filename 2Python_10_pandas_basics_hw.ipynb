{
 "cells": [
  {
   "cell_type": "markdown",
   "metadata": {},
   "source": [
    "**Домашнее задание**\n",
    "\n",
    "**Задание 1**\n",
    "Скачайте с сайта https://grouplens.org/datasets/movielens/ датасет любого размера. Определите какому фильму было выставлено больше всего оценок 5.0.\n",
    "\n",
    "**Задание 2**\n",
    "По данным файла power.csv посчитайте суммарное потребление стран Прибалтики (Латвия, Литва и Эстония) категорий 4, 12 и 21 за период с 2005 по 2010 года. Не учитывайте в расчетах отрицательные значения quantity.\n",
    "\n",
    "**Задание 3**\n",
    "Выберите страницу любого сайта с табличными данными. Импортируйте таблицы в pandas dataframe.\n",
    "Примеры страниц (необязательно брать именно эти):\n",
    "https://fortrader.org/quotes\n",
    "https://www.finanz.ru/valyuty/v-realnom-vremeni"
   ]
  },
  {
   "cell_type": "markdown",
   "metadata": {},
   "source": [
    "1"
   ]
  },
  {
   "cell_type": "code",
   "execution_count": 2,
   "metadata": {
    "scrolled": false
   },
   "outputs": [
    {
     "data": {
      "text/plain": [
       "318    170\n",
       "Name: movieId, dtype: int64"
      ]
     },
     "execution_count": 2,
     "metadata": {},
     "output_type": "execute_result"
    }
   ],
   "source": [
    "import pandas as pd\n",
    "ds=pd.read_csv('rating.csv', 'r', delimiter=',')\n",
    "ds[ds['rating']==5.0]['movieId'].value_counts().head(1)"
   ]
  },
  {
   "cell_type": "markdown",
   "metadata": {},
   "source": [
    "2"
   ]
  },
  {
   "cell_type": "code",
   "execution_count": 3,
   "metadata": {},
   "outputs": [
    {
     "name": "stdout",
     "output_type": "stream",
     "text": [
      "суммарное потребление: 240580.0\n"
     ]
    }
   ],
   "source": [
    "summ=0\n",
    "ds=pd.read_csv('power.csv', 'r', delimiter=',')\n",
    "ds2=ds[(ds['year']>=2005)&(ds['year']<=2010)&(ds['quantity']>0)]\n",
    "ds3=ds2[ds2.category.isin([4,12,21])]\n",
    "summ=ds3[ds3.country.str.contains('|'.join(['Lat','Lit','Est']))]['quantity'].sum()\n",
    "print('суммарное потребление: {}'.format(summ))"
   ]
  },
  {
   "cell_type": "markdown",
   "metadata": {},
   "source": [
    "3"
   ]
  },
  {
   "cell_type": "code",
   "execution_count": 15,
   "metadata": {},
   "outputs": [
    {
     "data": {
      "text/plain": [
       "[               Банк Сумма кредита   Ставка\n",
       " 0        Почта Банк      до 4 млн  от 5.9%\n",
       " 1       Газпромбанк     до 30 млн  от 5.5%\n",
       " 2  Хоум Кредит Банк      до 3 млн  от 7.9%\n",
       " 3          Банк ВТБ      до 5 млн  от 6.4%\n",
       " 4     Тинькофф Банк     до 15 млн  от 6.9%,\n",
       "             Банк Сумма вклада   Ставка\n",
       " 0       Банк ВТБ         от 1  до 5.5%\n",
       " 1       СберБанк         от 1  до 4.5%\n",
       " 2    Газпромбанк         от 1  до 6.5%\n",
       " 3  Тинькофф Банк    от 50 000    до 5%,\n",
       "                Банк Сумма ипотеки    Ставка\n",
       " 0        Альфа-Банк     до 50 млн  от 5.99%\n",
       " 1  ТрансКапиталБанк     до 50 млн  от 4.84%\n",
       " 2       Газпромбанк     до 60 млн   от 0.9%\n",
       " 3   Банк «Открытие»     до 30 млн     от 2%\n",
       " 4          СберБанк     до 12 млн   от 0.1%,\n",
       "              Банк Льготный период     Ставка\n",
       " 0  Восточный Банк      до 90 дней  от 10.00%\n",
       " 1        МТС Банк    до 1100 дней  от 10.00%\n",
       " 2    Центр-инвест      до 55 дней  от 22.00%\n",
       " 3   Тинькофф Банк     до 120 дней  от 12.00%\n",
       " 4      Альфа-Банк     до 100 дней   от 9.90%,\n",
       "               Банк Кэшбэк % на остаток\n",
       " 0    Тинькофф Банк   есть     до 3.50%\n",
       " 1         СберБанк   есть        3.50%\n",
       " 2  Банк «Открытие»   есть     до 4.00%\n",
       " 3         Банк ВТБ   есть     до 4.50%\n",
       " 4       Альфа-Банк   есть     до 6.00%]"
      ]
     },
     "execution_count": 15,
     "metadata": {},
     "output_type": "execute_result"
    }
   ],
   "source": [
    "pd.read_html('https://ufa.bankiros.ru/')"
   ]
  }
 ],
 "metadata": {
  "kernelspec": {
   "display_name": "Python 3",
   "language": "python",
   "name": "python3"
  },
  "language_info": {
   "codemirror_mode": {
    "name": "ipython",
    "version": 3
   },
   "file_extension": ".py",
   "mimetype": "text/x-python",
   "name": "python",
   "nbconvert_exporter": "python",
   "pygments_lexer": "ipython3",
   "version": "3.8.5"
  }
 },
 "nbformat": 4,
 "nbformat_minor": 2
}
